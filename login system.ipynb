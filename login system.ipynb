{
 "cells": [
  {
   "cell_type": "code",
   "execution_count": 1,
   "id": "e29ce1ad",
   "metadata": {},
   "outputs": [],
   "source": [
    "file=open('login.txt','a')\n",
    "file.write(\"admin admin_123\\n\")\n",
    "file.close()"
   ]
  },
  {
   "cell_type": "code",
   "execution_count": 2,
   "id": "36e833c5",
   "metadata": {},
   "outputs": [
    {
     "name": "stdout",
     "output_type": "stream",
     "text": [
      "Welcome to Employee System\n",
      "Please Enter Login id:  admin\n",
      "Please Enter Password:  admin_123\n",
      "Welcome to admin!!\n",
      "Enter 1 to add employee\n",
      "Enter 2 to remove employee\n",
      "Enter 3 to add hr\n",
      "Enter 4 to remove hr\n",
      "Enter 5 to search employee\n",
      "Enter q to exit\n",
      "Enter your Option: 1\n",
      "Employee ID - 21bcsl21\n",
      "Employee Name - Praveen\n",
      "Date of Joining - 14-04-2023\n",
      "Designation: Emp\n",
      "Salary: 15000\n",
      "Employee added Successfully\n",
      "Welcome to admin!!\n",
      "Enter 1 to add employee\n",
      "Enter 2 to remove employee\n",
      "Enter 3 to add hr\n",
      "Enter 4 to remove hr\n",
      "Enter 5 to search employee\n",
      "Enter q to exit\n",
      "Enter your Option: 5\n",
      "Enter the Employee ID you want to be Searched: 20bcsd55\n",
      "Not found\n",
      "Welcome to admin!!\n",
      "Enter 1 to add employee\n",
      "Enter 2 to remove employee\n",
      "Enter 3 to add hr\n",
      "Enter 4 to remove hr\n",
      "Enter 5 to search employee\n",
      "Enter q to exit\n",
      "Enter your Option: 5\n",
      "Enter the Employee ID you want to be Searched: 21bcsl21\n",
      "21bcsl21,Praveen,14-04-2023,Emp,15000\n",
      "\n",
      "Welcome to admin!!\n",
      "Enter 1 to add employee\n",
      "Enter 2 to remove employee\n",
      "Enter 3 to add hr\n",
      "Enter 4 to remove hr\n",
      "Enter 5 to search employee\n",
      "Enter q to exit\n",
      "Enter your Option: 7\n",
      "Welcome to admin!!\n",
      "Enter 1 to add employee\n",
      "Enter 2 to remove employee\n",
      "Enter 3 to add hr\n",
      "Enter 4 to remove hr\n",
      "Enter 5 to search employee\n",
      "Enter q to exit\n",
      "Enter your Option: q\n"
     ]
    }
   ],
   "source": [
    "import login"
   ]
  },
  {
   "cell_type": "code",
   "execution_count": 3,
   "id": "ed85eae2",
   "metadata": {},
   "outputs": [
    {
     "name": "stdout",
     "output_type": "stream",
     "text": [
      "Enter the id again: 20bcsd01\n",
      "enter 1 to view details\n",
      "enter 2 to view all employees\n",
      "enter q to exit\n",
      "Enter your choice: 2\n",
      "Enter designation: Emp\n",
      "20bcsd01,Boy1,23-12-2001,Emp,20000\n",
      "\n",
      "21bcsl21,Praveen,14-04-2023,Emp,15000\n",
      "\n",
      "enter 1 to view details\n",
      "enter 2 to view all employees\n",
      "enter q to exit\n",
      "Enter your choice: 2\n",
      "Enter designation: hr\n",
      "enter 1 to view details\n",
      "enter 2 to view all employees\n",
      "enter q to exit\n",
      "Enter your choice: q\n"
     ]
    }
   ],
   "source": [
    "import employee"
   ]
  },
  {
   "cell_type": "code",
   "execution_count": 5,
   "id": "1b09be38",
   "metadata": {},
   "outputs": [],
   "source": [
    "import employee"
   ]
  },
  {
   "cell_type": "code",
   "execution_count": 1,
   "id": "50c29aad",
   "metadata": {},
   "outputs": [
    {
     "name": "stdout",
     "output_type": "stream",
     "text": [
      "Enter the id again: 20bcsd01\n",
      "enter 1 to view details\n",
      "enter 2 to view all employees\n",
      "enter q to exit\n",
      "Enter your choice: 1\n",
      "20bcsd01,Boy1,23-12-2001,Emp,20000\n",
      "\n",
      "enter 1 to view details\n",
      "enter 2 to view all employees\n",
      "enter q to exit\n",
      "Enter your choice: 2\n",
      "Enter designation: Employee\n",
      "20bcsd02,Boy2,10-11-2003,Employee,40000\n",
      "\n",
      "enter 1 to view details\n",
      "enter 2 to view all employees\n",
      "enter q to exit\n",
      "Enter your choice: q\n"
     ]
    }
   ],
   "source": [
    "import employee"
   ]
  }
 ],
 "metadata": {
  "kernelspec": {
   "display_name": "Python 3 (ipykernel)",
   "language": "python",
   "name": "python3"
  },
  "language_info": {
   "codemirror_mode": {
    "name": "ipython",
    "version": 3
   },
   "file_extension": ".py",
   "mimetype": "text/x-python",
   "name": "python",
   "nbconvert_exporter": "python",
   "pygments_lexer": "ipython3",
   "version": "3.9.13"
  }
 },
 "nbformat": 4,
 "nbformat_minor": 5
}
